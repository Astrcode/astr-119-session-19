{
 "cells": [
  {
   "cell_type": "code",
   "execution_count": null,
   "id": "a605a05c",
   "metadata": {},
   "outputs": [],
   "source": [
    "#Office hours 12/8/21 2-3pm\n",
    "%matplotlib inline\n",
    "import matplotlib.pyplot as plt\n",
    "import matplotlib.colors as colors\n",
    "import numpy as np"
   ]
  },
  {
   "cell_type": "markdown",
   "id": "55bfaec9",
   "metadata": {},
   "source": [
    "Read in density & energy files"
   ]
  },
  {
   "cell_type": "code",
   "execution_count": null,
   "id": "12899666",
   "metadata": {},
   "outputs": [],
   "source": [
    "fname = \"density_projection.dat\"\n",
    "d = np.fromfile(fname,dtype=np.float32)\n",
    "d = np.reshape(d,(512,512))\n",
    "print(type(d))\n",
    "print(d.shape)"
   ]
  },
  {
   "cell_type": "code",
   "execution_count": null,
   "id": "53037108",
   "metadata": {},
   "outputs": [],
   "source": [
    "fname = \"energy_projection.dat\"\n",
    "energy = np.fromfile(fname,dtype=np.float32)\n",
    "energy = np.reshape(energy,(512,512))\n",
    "print(type(energy))\n",
    "print(energy.shape)"
   ]
  },
  {
   "cell_type": "code",
   "execution_count": null,
   "id": "fab17e29",
   "metadata": {},
   "outputs": [],
   "source": [
    "d_log = np.log10(d)\n",
    "f = plt.figure(figsize=(7,7))\n",
    "plt.imshow(d_log)\n",
    "plt.colorbar()"
   ]
  },
  {
   "cell_type": "code",
   "execution_count": null,
   "id": "85c8a6eb",
   "metadata": {},
   "outputs": [],
   "source": [
    "e_log = np.log10(energy)\n",
    "f = plt.figure(figsize=(7,7))\n",
    "plt.imshow(e_log)\n",
    "plt.colorbar()"
   ]
  },
  {
   "cell_type": "code",
   "execution_count": null,
   "id": "c9c9a8b2",
   "metadata": {},
   "outputs": [],
   "source": [
    "f, ax = plt.subplots(2,1,figsize=(14,7))\n",
    "ax[0].imshow(d_log)\n",
    "ax[1].imshow(e_log)"
   ]
  },
  {
   "cell_type": "code",
   "execution_count": null,
   "id": "5d3321a3",
   "metadata": {},
   "outputs": [],
   "source": [
    "# map the density to value and saturation\n",
    "d_min = d_log.min()\n",
    "d_max = d_log.max()\n",
    "\n",
    "v = (d_log - d_min)/(d_max - d_min)\n",
    "s = 1.0 - v "
   ]
  },
  {
   "cell_type": "code",
   "execution_count": null,
   "id": "a6ff4114",
   "metadata": {},
   "outputs": [],
   "source": [
    "#map energy to hue\n",
    "e_min = e_log.min()\n",
    "e_max = e_log.max()\n",
    "\n",
    "h = 0.8 - 0.2*(e_log - e_min)/(e_max - e_min) "
   ]
  },
  {
   "cell_type": "code",
   "execution_count": null,
   "id": "07283228",
   "metadata": {},
   "outputs": [],
   "source": [
    "f, ax = plt.subplots(1,3,figsize=(14,7))\n",
    "ax[0].imshow(v)\n",
    "ax[1].imshow(h)\n",
    "ax[2].imshow(s)"
   ]
  },
  {
   "cell_type": "code",
   "execution_count": null,
   "id": "903af619",
   "metadata": {},
   "outputs": [],
   "source": [
    "hsv_image = np.zeros((512,512,3))\n",
    "\n",
    "hsv_image[:,:,0] = h\n",
    "hsv_image[:,:,1] = s\n",
    "hsv_image[:,:,2] = v\n",
    "\n",
    "rgb_image = colors.hsv_to_rgb(hsv_image)\n",
    "print(rgb_image.shape)"
   ]
  },
  {
   "cell_type": "code",
   "execution_count": null,
   "id": "0222401c",
   "metadata": {},
   "outputs": [],
   "source": [
    "f = plt.figure(figsize=(7,7))\n",
    "red_image = rgb_image.copy()\n",
    "red_image[:,:,1] = 0\n",
    "red_image[:,:,2] = 0\n",
    "\n",
    "plt.imshow(red_image)"
   ]
  },
  {
   "cell_type": "code",
   "execution_count": null,
   "id": "26dc141c",
   "metadata": {},
   "outputs": [],
   "source": [
    "f = plt.figure(figsize=(7,7))\n",
    "green_image = rgb_image.copy()\n",
    "green_image[:,:,0] = 0\n",
    "green_image[:,:,2] = 0\n",
    "\n",
    "plt.imshow(green_image)"
   ]
  },
  {
   "cell_type": "code",
   "execution_count": null,
   "id": "45b9fbf6",
   "metadata": {},
   "outputs": [],
   "source": [
    "f = plt.figure(figsize=(7,7))\n",
    "blue_image = rgb_image.copy()\n",
    "blue_image[:,:,0] = 0\n",
    "blue_image[:,:,1] = 0\n",
    "\n",
    "plt.imshow(blue_image)"
   ]
  },
  {
   "cell_type": "code",
   "execution_count": null,
   "id": "746a0dff",
   "metadata": {},
   "outputs": [],
   "source": [
    "f = plt.figure(figsize(7,7))\n",
    "plt.imshow(rgb_image)\n",
    "plt.imsave(\"test.png\",rgb_image)"
   ]
  },
  {
   "cell_type": "code",
   "execution_count": null,
   "id": "4e1d6db5",
   "metadata": {},
   "outputs": [],
   "source": []
  }
 ],
 "metadata": {
  "kernelspec": {
   "display_name": "Python 3 (ipykernel)",
   "language": "python",
   "name": "python3"
  },
  "language_info": {
   "codemirror_mode": {
    "name": "ipython",
    "version": 3
   },
   "file_extension": ".py",
   "mimetype": "text/x-python",
   "name": "python",
   "nbconvert_exporter": "python",
   "pygments_lexer": "ipython3",
   "version": "3.9.7"
  }
 },
 "nbformat": 4,
 "nbformat_minor": 5
}
